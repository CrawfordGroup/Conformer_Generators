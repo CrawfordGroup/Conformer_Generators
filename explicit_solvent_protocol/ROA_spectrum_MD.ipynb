{
 "cells": [
  {
   "cell_type": "code",
   "execution_count": 11,
   "metadata": {},
   "outputs": [],
   "source": [
    "import numpy as np\n",
    "import math\n",
    "from scipy import constants as pc\n",
    "from scipy.signal import find_peaks\n",
    "import matplotlib.pyplot as plt\n",
    "import csv"
   ]
  },
  {
   "cell_type": "code",
   "execution_count": 13,
   "metadata": {},
   "outputs": [],
   "source": [
    "h = pc.h\n",
    "c = pc.c\n",
    "b = pc.k\n",
    "T = 293"
   ]
  },
  {
   "cell_type": "code",
   "execution_count": 14,
   "metadata": {},
   "outputs": [],
   "source": [
    "def normalize(x):\n",
    "    max = 0.0\n",
    "    for i in range(len(x)):\n",
    "        if abs(x[i]) > max:\n",
    "            max = abs(x[i])\n",
    "    for i in range(len(x)):\n",
    "        x[i] = x[i]/max\n",
    "    return x"
   ]
  },
  {
   "cell_type": "code",
   "execution_count": 15,
   "metadata": {},
   "outputs": [],
   "source": [
    "def lorentzian(Vib_Freq,peak_pos,ROA3,fwhm):\n",
    "    ROA = []\n",
    "    for i in range(len(Vib_Freq)):\n",
    "        ROA.append(Vib_Freq)\n",
    "    for i in range(0,len(Vib_Freq_axis)):\n",
    "        for j in range(0,len(peak_pos)):\n",
    "            ROA[i] += ROA3[j]/(1+(Vib_Freq[i]-peak_pos[j])/fwhm)**2\n",
    "    return normalize(ROA)\n",
    "            "
   ]
  },
  {
   "cell_type": "code",
   "execution_count": 16,
   "metadata": {},
   "outputs": [
    {
     "ename": "FileNotFoundError",
     "evalue": "[Errno 2] No such file or directory: 'Sorted.txt,r'",
     "output_type": "error",
     "traceback": [
      "\u001b[1;31m---------------------------------------------------------------------------\u001b[0m",
      "\u001b[1;31mFileNotFoundError\u001b[0m                         Traceback (most recent call last)",
      "\u001b[1;32m<ipython-input-16-3c69f0154a1f>\u001b[0m in \u001b[0;36m<module>\u001b[1;34m\u001b[0m\n\u001b[1;32m----> 1\u001b[1;33m \u001b[0mfile\u001b[0m \u001b[1;33m=\u001b[0m \u001b[0mopen\u001b[0m\u001b[1;33m(\u001b[0m\u001b[1;34m\"Sorted.txt,r\"\u001b[0m\u001b[1;33m)\u001b[0m\u001b[1;33m\u001b[0m\u001b[1;33m\u001b[0m\u001b[0m\n\u001b[0m\u001b[0;32m      2\u001b[0m \u001b[0mcmpd\u001b[0m \u001b[1;33m=\u001b[0m \u001b[1;33m[\u001b[0m\u001b[1;33m]\u001b[0m\u001b[1;33m\u001b[0m\u001b[1;33m\u001b[0m\u001b[0m\n\u001b[0;32m      3\u001b[0m \u001b[0mGFE\u001b[0m \u001b[1;33m=\u001b[0m \u001b[1;33m[\u001b[0m\u001b[1;33m]\u001b[0m\u001b[1;33m\u001b[0m\u001b[1;33m\u001b[0m\u001b[0m\n\u001b[0;32m      4\u001b[0m \u001b[0mVib_Freq\u001b[0m \u001b[1;33m=\u001b[0m \u001b[1;33m[\u001b[0m\u001b[1;33m]\u001b[0m\u001b[1;33m\u001b[0m\u001b[1;33m\u001b[0m\u001b[0m\n\u001b[0;32m      5\u001b[0m \u001b[0mInc_vib\u001b[0m \u001b[1;33m=\u001b[0m \u001b[0minput\u001b[0m\u001b[1;33m(\u001b[0m\u001b[1;34m\"Enter the incident frequency\"\u001b[0m\u001b[1;33m)\u001b[0m\u001b[1;33m\u001b[0m\u001b[1;33m\u001b[0m\u001b[0m\n",
      "\u001b[1;31mFileNotFoundError\u001b[0m: [Errno 2] No such file or directory: 'Sorted.txt,r'"
     ]
    }
   ],
   "source": [
    "file = open(\"Sorted.txt,r\")\n",
    "cmpd = []\n",
    "GFE = []\n",
    "Vib_Freq = []\n",
    "Inc_vib = input(\"Enter the incident frequency\")\n",
    "\n",
    "\n",
    "for line in file1.readlines():\n",
    "    col = line.split()\n",
    "    cmpd.append(int(col[0]))\n",
    "    GFE.append(float(col[1]))\n",
    "    Vib_Freq.append(float(col[2]))\n",
    "    CID3.append(float(col[3]))\n",
    "    ROA3.append(float(col[4]))\n",
    "    Raman3.append(float(col[5]))\n",
    "\n",
    "file.close()\n",
    "\n",
    "peaks, _ = find_peaks(ROA3)\n",
    "peak_pos = Vib_Freq[peaks]\n",
    "\n",
    "# we may perform a simple averaging or normalize using the normalize function defined below\n",
    "#Avg_CID3 = np.zeros((len(cmpd)))\n",
    "#for i in range(0,len(cmpd)):\n",
    "    #Avg_CID3[i] += CID3[i]*1/len(cmpd2)\n",
    "\n",
    "number_of_points = 2000\n",
    "fwhm = .001\n",
    "\n",
    "delta = float((max(Vib_Freq)-min(Vib_Freq))/number_of_points)\n",
    "Vib_Freq_axis = np.arange(min(Vib_Freq),max(Vib_Freq), delta)\n",
    "ROA = np.zeros((number_of_points))\n",
    "\n",
    "lorentzian(Vib_Freq, peak_pos, ROA3, fwhm) #normalized lorentzian fitting\n",
    "\n"
   ]
  },
  {
   "cell_type": "code",
   "execution_count": 17,
   "metadata": {},
   "outputs": [
    {
     "ename": "NameError",
     "evalue": "name 'Vib_Freq_axis' is not defined",
     "output_type": "error",
     "traceback": [
      "\u001b[1;31m---------------------------------------------------------------------------\u001b[0m",
      "\u001b[1;31mNameError\u001b[0m                                 Traceback (most recent call last)",
      "\u001b[1;32m<ipython-input-17-658e28ae1dae>\u001b[0m in \u001b[0;36m<module>\u001b[1;34m\u001b[0m\n\u001b[0;32m      4\u001b[0m \u001b[1;33m\u001b[0m\u001b[0m\n\u001b[0;32m      5\u001b[0m \u001b[1;31m# Selecting data to plot.\u001b[0m\u001b[1;33m\u001b[0m\u001b[1;33m\u001b[0m\u001b[1;33m\u001b[0m\u001b[0m\n\u001b[1;32m----> 6\u001b[1;33m \u001b[0mplt\u001b[0m\u001b[1;33m.\u001b[0m\u001b[0mplot\u001b[0m\u001b[1;33m(\u001b[0m\u001b[0mVib_Freq_axis\u001b[0m\u001b[1;33m,\u001b[0m \u001b[0mROA\u001b[0m\u001b[1;33m)\u001b[0m\u001b[1;33m\u001b[0m\u001b[1;33m\u001b[0m\u001b[0m\n\u001b[0m\u001b[0;32m      7\u001b[0m \u001b[1;33m\u001b[0m\u001b[0m\n\u001b[0;32m      8\u001b[0m \u001b[1;31m# Plotting the spectrum with x- and y- axis labels.\u001b[0m\u001b[1;33m\u001b[0m\u001b[1;33m\u001b[0m\u001b[1;33m\u001b[0m\u001b[0m\n",
      "\u001b[1;31mNameError\u001b[0m: name 'Vib_Freq_axis' is not defined"
     ]
    }
   ],
   "source": [
    "# Setting plot parameters.\n",
    "plt.rcParams[\"figure.figsize\"] = [13.50, 10.50]\n",
    "plt.rcParams[\"figure.autolayout\"] = True\n",
    "\n",
    "# Selecting data to plot.\n",
    "plt.plot(Vib_Freq_axis, ROA)\n",
    "\n",
    "# Plotting the spectrum with x- and y- axis labels.\n",
    "plt.xlabel('Frequency (cm-1)')\n",
    "plt.ylabel('Raman Optical Activity')\n",
    "\n",
    "# Setting the limits on the x-axis.\n",
    "#plt.xlim(1000,2000)\n",
    "\n",
    "# Saving the plot.\n",
    "#plt.savefig('/Users/bshumberger/Documents/Data/A_methylglucoside/Spectrum.pdf', bbox_inches='tight')\n",
    "\n",
    "# Displaying plot.\n",
    "plt.show()"
   ]
  },
  {
   "cell_type": "code",
   "execution_count": null,
   "metadata": {},
   "outputs": [],
   "source": []
  }
 ],
 "metadata": {
  "kernelspec": {
   "display_name": "Python 3",
   "language": "python",
   "name": "python3"
  },
  "language_info": {
   "codemirror_mode": {
    "name": "ipython",
    "version": 3
   },
   "file_extension": ".py",
   "mimetype": "text/x-python",
   "name": "python",
   "nbconvert_exporter": "python",
   "pygments_lexer": "ipython3",
   "version": "3.8.5"
  }
 },
 "nbformat": 4,
 "nbformat_minor": 4
}
